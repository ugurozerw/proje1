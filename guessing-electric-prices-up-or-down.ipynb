{
 "cells": [
  {
   "cell_type": "markdown",
   "metadata": {
    "id": "5HALcwNQsqiD"
   },
   "source": [
    "# Libraries, data entry and processing\n",
    "The `class` column contains the target labels (e.g., \"UP\" and \"DOWN\").\n",
    "These are encoded into numeric values: \"UP\" -> 1, \"DOWN\" -> 0.\n"
   ]
  },
  {
   "cell_type": "code",
   "execution_count": 1,
   "metadata": {
    "execution": {
     "iopub.execute_input": "2024-12-19T11:38:33.521093Z",
     "iopub.status.busy": "2024-12-19T11:38:33.520698Z",
     "iopub.status.idle": "2024-12-19T11:38:33.601612Z",
     "shell.execute_reply": "2024-12-19T11:38:33.600477Z",
     "shell.execute_reply.started": "2024-12-19T11:38:33.521058Z"
    },
    "id": "263QS2AcsqiE",
    "trusted": true
   },
   "outputs": [],
   "source": [
    "import pandas as pd\n",
    "from sklearn.preprocessing import LabelEncoder\n",
    "\n",
    "# Load the dataset\n",
    "data = pd.read_csv(\"electricity.csv\")\n",
    "\n",
    "# Encode the target variable\n",
    "le = LabelEncoder()\n",
    "data['class'] = le.fit_transform(data['class'])  # UP -> 1, DOWN -> 0\n",
    "\n",
    "# Encode categorical data (e.g., the day column)\n",
    "data['day'] = le.fit_transform(data['day'])\n",
    "\n",
    "# Separate features (X) and target (y)\n",
    "X = data[['date', 'day', 'period', 'nswprice', 'nswdemand', 'vicprice', 'vicdemand', 'transfer']].values\n",
    "y = data['class'].values\n",
    "\n",
    "# Ensure all feature data is numeric\n",
    "X = X.astype('float32')\n"
   ]
  },
  {
   "cell_type": "code",
   "execution_count": 2,
   "metadata": {
    "execution": {
     "iopub.execute_input": "2024-12-19T11:38:36.707003Z",
     "iopub.status.busy": "2024-12-19T11:38:36.706621Z",
     "iopub.status.idle": "2024-12-19T11:38:36.717951Z",
     "shell.execute_reply": "2024-12-19T11:38:36.716503Z",
     "shell.execute_reply.started": "2024-12-19T11:38:36.706970Z"
    },
    "id": "Qp1zjgFWsqiE",
    "trusted": true
   },
   "outputs": [],
   "source": [
    "from sklearn.model_selection import train_test_split\n",
    "\n",
    "# Split the dataset\n",
    "X_train, X_test, y_train, y_test = train_test_split(X, y, test_size=0.2, random_state=42)"
   ]
  },
  {
   "cell_type": "markdown",
   "metadata": {},
   "source": [
    "# Dense Model"
   ]
  },
  {
   "cell_type": "code",
   "execution_count": 3,
   "metadata": {
    "execution": {
     "iopub.execute_input": "2024-12-19T11:38:37.896307Z",
     "iopub.status.busy": "2024-12-19T11:38:37.895923Z",
     "iopub.status.idle": "2024-12-19T11:39:14.076348Z",
     "shell.execute_reply": "2024-12-19T11:39:14.075204Z",
     "shell.execute_reply.started": "2024-12-19T11:38:37.896273Z"
    },
    "id": "BYuo0GXisqiF",
    "outputId": "37154a7c-68e0-4e8d-fa68-c544d0f4f0c4",
    "trusted": true
   },
   "outputs": [
    {
     "name": "stdout",
     "output_type": "stream",
     "text": [
      "Epoch 1/20\n"
     ]
    },
    {
     "name": "stderr",
     "output_type": "stream",
     "text": [
      "c:\\Users\\binif\\anaconda3\\Lib\\site-packages\\keras\\src\\layers\\core\\dense.py:87: UserWarning: Do not pass an `input_shape`/`input_dim` argument to a layer. When using Sequential models, prefer using an `Input(shape)` object as the first layer in the model instead.\n",
      "  super().__init__(activity_regularizer=activity_regularizer, **kwargs)\n"
     ]
    },
    {
     "name": "stdout",
     "output_type": "stream",
     "text": [
      "\u001b[1m1020/1020\u001b[0m \u001b[32m━━━━━━━━━━━━━━━━━━━━\u001b[0m\u001b[37m\u001b[0m \u001b[1m2s\u001b[0m 1ms/step - accuracy: 0.6024 - loss: 0.6626 - val_accuracy: 0.6850 - val_loss: 0.5847\n",
      "Epoch 2/20\n",
      "\u001b[1m1020/1020\u001b[0m \u001b[32m━━━━━━━━━━━━━━━━━━━━\u001b[0m\u001b[37m\u001b[0m \u001b[1m1s\u001b[0m 973us/step - accuracy: 0.7058 - loss: 0.5601 - val_accuracy: 0.7404 - val_loss: 0.5342\n",
      "Epoch 3/20\n",
      "\u001b[1m1020/1020\u001b[0m \u001b[32m━━━━━━━━━━━━━━━━━━━━\u001b[0m\u001b[37m\u001b[0m \u001b[1m1s\u001b[0m 985us/step - accuracy: 0.7370 - loss: 0.5262 - val_accuracy: 0.7423 - val_loss: 0.5158\n",
      "Epoch 4/20\n",
      "\u001b[1m1020/1020\u001b[0m \u001b[32m━━━━━━━━━━━━━━━━━━━━\u001b[0m\u001b[37m\u001b[0m \u001b[1m1s\u001b[0m 953us/step - accuracy: 0.7593 - loss: 0.5026 - val_accuracy: 0.7614 - val_loss: 0.4988\n",
      "Epoch 5/20\n",
      "\u001b[1m1020/1020\u001b[0m \u001b[32m━━━━━━━━━━━━━━━━━━━━\u001b[0m\u001b[37m\u001b[0m \u001b[1m1s\u001b[0m 943us/step - accuracy: 0.7684 - loss: 0.4905 - val_accuracy: 0.7652 - val_loss: 0.4932\n",
      "Epoch 6/20\n",
      "\u001b[1m1020/1020\u001b[0m \u001b[32m━━━━━━━━━━━━━━━━━━━━\u001b[0m\u001b[37m\u001b[0m \u001b[1m1s\u001b[0m 954us/step - accuracy: 0.7688 - loss: 0.4873 - val_accuracy: 0.7721 - val_loss: 0.4887\n",
      "Epoch 7/20\n",
      "\u001b[1m1020/1020\u001b[0m \u001b[32m━━━━━━━━━━━━━━━━━━━━\u001b[0m\u001b[37m\u001b[0m \u001b[1m1s\u001b[0m 962us/step - accuracy: 0.7712 - loss: 0.4892 - val_accuracy: 0.7677 - val_loss: 0.4886\n",
      "Epoch 8/20\n",
      "\u001b[1m1020/1020\u001b[0m \u001b[32m━━━━━━━━━━━━━━━━━━━━\u001b[0m\u001b[37m\u001b[0m \u001b[1m1s\u001b[0m 971us/step - accuracy: 0.7742 - loss: 0.4855 - val_accuracy: 0.7719 - val_loss: 0.4895\n",
      "Epoch 9/20\n",
      "\u001b[1m1020/1020\u001b[0m \u001b[32m━━━━━━━━━━━━━━━━━━━━\u001b[0m\u001b[37m\u001b[0m \u001b[1m1s\u001b[0m 977us/step - accuracy: 0.7723 - loss: 0.4809 - val_accuracy: 0.7710 - val_loss: 0.4832\n",
      "Epoch 10/20\n",
      "\u001b[1m1020/1020\u001b[0m \u001b[32m━━━━━━━━━━━━━━━━━━━━\u001b[0m\u001b[37m\u001b[0m \u001b[1m1s\u001b[0m 982us/step - accuracy: 0.7761 - loss: 0.4776 - val_accuracy: 0.7683 - val_loss: 0.4836\n",
      "Epoch 11/20\n",
      "\u001b[1m1020/1020\u001b[0m \u001b[32m━━━━━━━━━━━━━━━━━━━━\u001b[0m\u001b[37m\u001b[0m \u001b[1m1s\u001b[0m 981us/step - accuracy: 0.7773 - loss: 0.4752 - val_accuracy: 0.7691 - val_loss: 0.4812\n",
      "Epoch 12/20\n",
      "\u001b[1m1020/1020\u001b[0m \u001b[32m━━━━━━━━━━━━━━━━━━━━\u001b[0m\u001b[37m\u001b[0m \u001b[1m1s\u001b[0m 990us/step - accuracy: 0.7757 - loss: 0.4737 - val_accuracy: 0.7727 - val_loss: 0.4816\n",
      "Epoch 13/20\n",
      "\u001b[1m1020/1020\u001b[0m \u001b[32m━━━━━━━━━━━━━━━━━━━━\u001b[0m\u001b[37m\u001b[0m \u001b[1m1s\u001b[0m 968us/step - accuracy: 0.7768 - loss: 0.4728 - val_accuracy: 0.7691 - val_loss: 0.4792\n",
      "Epoch 14/20\n",
      "\u001b[1m1020/1020\u001b[0m \u001b[32m━━━━━━━━━━━━━━━━━━━━\u001b[0m\u001b[37m\u001b[0m \u001b[1m1s\u001b[0m 1ms/step - accuracy: 0.7790 - loss: 0.4708 - val_accuracy: 0.7727 - val_loss: 0.4783\n",
      "Epoch 15/20\n",
      "\u001b[1m1020/1020\u001b[0m \u001b[32m━━━━━━━━━━━━━━━━━━━━\u001b[0m\u001b[37m\u001b[0m \u001b[1m1s\u001b[0m 1ms/step - accuracy: 0.7763 - loss: 0.4680 - val_accuracy: 0.7760 - val_loss: 0.4744\n",
      "Epoch 16/20\n",
      "\u001b[1m1020/1020\u001b[0m \u001b[32m━━━━━━━━━━━━━━━━━━━━\u001b[0m\u001b[37m\u001b[0m \u001b[1m1s\u001b[0m 976us/step - accuracy: 0.7812 - loss: 0.4685 - val_accuracy: 0.7771 - val_loss: 0.4741\n",
      "Epoch 17/20\n",
      "\u001b[1m1020/1020\u001b[0m \u001b[32m━━━━━━━━━━━━━━━━━━━━\u001b[0m\u001b[37m\u001b[0m \u001b[1m1s\u001b[0m 968us/step - accuracy: 0.7764 - loss: 0.4701 - val_accuracy: 0.7721 - val_loss: 0.4762\n",
      "Epoch 18/20\n",
      "\u001b[1m1020/1020\u001b[0m \u001b[32m━━━━━━━━━━━━━━━━━━━━\u001b[0m\u001b[37m\u001b[0m \u001b[1m1s\u001b[0m 991us/step - accuracy: 0.7780 - loss: 0.4683 - val_accuracy: 0.7757 - val_loss: 0.4741\n",
      "Epoch 19/20\n",
      "\u001b[1m1020/1020\u001b[0m \u001b[32m━━━━━━━━━━━━━━━━━━━━\u001b[0m\u001b[37m\u001b[0m \u001b[1m1s\u001b[0m 951us/step - accuracy: 0.7775 - loss: 0.4692 - val_accuracy: 0.7702 - val_loss: 0.4765\n",
      "Epoch 20/20\n",
      "\u001b[1m1020/1020\u001b[0m \u001b[32m━━━━━━━━━━━━━━━━━━━━\u001b[0m\u001b[37m\u001b[0m \u001b[1m1s\u001b[0m 967us/step - accuracy: 0.7769 - loss: 0.4693 - val_accuracy: 0.7741 - val_loss: 0.4724\n",
      "\u001b[1m284/284\u001b[0m \u001b[32m━━━━━━━━━━━━━━━━━━━━\u001b[0m\u001b[37m\u001b[0m \u001b[1m0s\u001b[0m 780us/step - accuracy: 0.7879 - loss: 0.4596\n",
      "\u001b[1m284/284\u001b[0m \u001b[32m━━━━━━━━━━━━━━━━━━━━\u001b[0m\u001b[37m\u001b[0m \u001b[1m0s\u001b[0m 582us/step\n",
      "Test Loss: 0.4608365297317505, Test Accuracy: 0.7835153937339783\n",
      "\n",
      "Model Performance Metrics:\n",
      "   Accuracy  Precision    Recall  F1-Score   Entropy\n",
      "0  0.783515   0.780552  0.686209  0.730346  0.460837\n"
     ]
    },
    {
     "name": "stderr",
     "output_type": "stream",
     "text": [
      "C:\\Users\\binif\\AppData\\Local\\Temp\\ipykernel_14332\\3525651061.py:59: FutureWarning: \n",
      "\n",
      "Passing `palette` without assigning `hue` is deprecated and will be removed in v0.14.0. Assign the `y` variable to `hue` and set `legend=False` for the same effect.\n",
      "\n",
      "  ax = sns.barplot(x='Score', y='Metric', data=df_metrics, palette='viridis')\n"
     ]
    },
    {
     "data": {
      "image/png": "[encoded data removed]",
      "text/plain": [
       "<Figure size 1000x600 with 1 Axes>"
      ]
     },
     "metadata": {},
     "output_type": "display_data"
    }
   ],
   "source": [
    "from sklearn.metrics import accuracy_score, precision_score, recall_score, f1_score, mean_squared_error, log_loss\n",
    "from tensorflow.keras.layers import Dense\n",
    "from tensorflow.keras.models import Sequential\n",
    "import matplotlib.pyplot as plt\n",
    "import seaborn as sns\n",
    "\n",
    "# Create the model\n",
    "model = Sequential([\n",
    "    Dense(16, activation='relu', input_dim=X.shape[1]),\n",
    "    Dense(8, activation='relu'),\n",
    "    Dense(1, activation='sigmoid')  # Sigmoid for binary classification\n",
    "])\n",
    "\n",
    "# Compile the model\n",
    "model.compile(optimizer='adam', loss='binary_crossentropy', metrics=['accuracy'])\n",
    "\n",
    "# Train the model\n",
    "history = model.fit(X_train, y_train, epochs=20, batch_size=32, validation_split=0.1)\n",
    "\n",
    "# Evaluate performance\n",
    "loss, accuracy = model.evaluate(X_test, y_test)\n",
    "y_pred = model.predict(X_test)\n",
    "y_pred_class = (y_pred > 0.5).astype(int)  # Binary classification with 0.5 threshold\n",
    "\n",
    "# Metrics\n",
    "precision = precision_score(y_test, y_pred_class)\n",
    "recall = recall_score(y_test, y_pred_class)\n",
    "f1 = f1_score(y_test, y_pred_class)\n",
    "entropy = log_loss(y_test, y_pred)\n",
    "\n",
    "# Present results in a table\n",
    "metrics = {\n",
    "    'Accuracy': accuracy,\n",
    "    'Precision': precision,\n",
    "    'Recall': recall,\n",
    "    'F1-Score': f1,\n",
    "    'Entropy': entropy\n",
    "}\n",
    "\n",
    "# Create the DataFrame\n",
    "metrics_df = pd.DataFrame(metrics, index=[0])\n",
    "\n",
    "# Performance Report\n",
    "print(f\"Test Loss: {loss}, Test Accuracy: {accuracy}\")\n",
    "print(\"\\nModel Performance Metrics:\")\n",
    "print(metrics_df)\n",
    "\n",
    "# Data for performance metrics\n",
    "metrics = {\n",
    "    'Metric': ['Accuracy', 'Precision', 'Recall', 'F1-Score', 'Entropy'],\n",
    "    'Score': [accuracy, precision, recall, f1, entropy]\n",
    "}\n",
    "\n",
    "# Create a DataFrame\n",
    "df_metrics = pd.DataFrame(metrics)\n",
    "\n",
    "# Plot the metrics\n",
    "plt.figure(figsize=(10, 6))\n",
    "ax = sns.barplot(x='Score', y='Metric', data=df_metrics, palette='viridis')\n",
    "\n",
    "# Title and labels\n",
    "plt.title('Model Performance Metrics', fontsize=16)\n",
    "plt.xlabel('Score', fontsize=12)\n",
    "plt.ylabel('Metric', fontsize=12)\n",
    "\n",
    "# Add metric values on top of each bar\n",
    "for p in ax.patches:\n",
    "    ax.annotate(f'{p.get_width():.4f}',\n",
    "                (p.get_x() + p.get_width() * 0.9, p.get_y() + p.get_height() / 2),\n",
    "                ha='center', va='center', fontsize=12, color='black')\n",
    "\n",
    "# Show the plot\n",
    "plt.show()"
   ]
  },
  {
   "cell_type": "markdown",
   "metadata": {},
   "source": [
    "# LTSM Model"
   ]
  },
  {
   "cell_type": "code",
   "execution_count": 4,
   "metadata": {
    "execution": {
     "iopub.execute_input": "2024-12-19T11:39:35.453550Z",
     "iopub.status.busy": "2024-12-19T11:39:35.452465Z",
     "iopub.status.idle": "2024-12-19T11:40:27.620045Z",
     "shell.execute_reply": "2024-12-19T11:40:27.618705Z",
     "shell.execute_reply.started": "2024-12-19T11:39:35.453502Z"
    },
    "id": "-9qJiNGGsqiG",
    "outputId": "496a6a42-1001-4397-a988-426d095f7de6",
    "trusted": true
   },
   "outputs": [
    {
     "name": "stdout",
     "output_type": "stream",
     "text": [
      "Epoch 1/20\n"
     ]
    },
    {
     "name": "stderr",
     "output_type": "stream",
     "text": [
      "c:\\Users\\binif\\anaconda3\\Lib\\site-packages\\keras\\src\\layers\\rnn\\rnn.py:200: UserWarning: Do not pass an `input_shape`/`input_dim` argument to a layer. When using Sequential models, prefer using an `Input(shape)` object as the first layer in the model instead.\n",
      "  super().__init__(**kwargs)\n"
     ]
    },
    {
     "name": "stdout",
     "output_type": "stream",
     "text": [
      "\u001b[1m1020/1020\u001b[0m \u001b[32m━━━━━━━━━━━━━━━━━━━━\u001b[0m\u001b[37m\u001b[0m \u001b[1m3s\u001b[0m 1ms/step - accuracy: 0.6004 - loss: 0.6584 - val_accuracy: 0.6797 - val_loss: 0.5895\n",
      "Epoch 2/20\n",
      "\u001b[1m1020/1020\u001b[0m \u001b[32m━━━━━━━━━━━━━━━━━━━━\u001b[0m\u001b[37m\u001b[0m \u001b[1m1s\u001b[0m 1ms/step - accuracy: 0.7051 - loss: 0.5721 - val_accuracy: 0.7324 - val_loss: 0.5358\n",
      "Epoch 3/20\n",
      "\u001b[1m1020/1020\u001b[0m \u001b[32m━━━━━━━━━━━━━━━━━━━━\u001b[0m\u001b[37m\u001b[0m \u001b[1m1s\u001b[0m 1ms/step - accuracy: 0.7494 - loss: 0.5256 - val_accuracy: 0.7492 - val_loss: 0.5117\n",
      "Epoch 4/20\n",
      "\u001b[1m1020/1020\u001b[0m \u001b[32m━━━━━━━━━━━━━━━━━━━━\u001b[0m\u001b[37m\u001b[0m \u001b[1m1s\u001b[0m 1ms/step - accuracy: 0.7593 - loss: 0.5018 - val_accuracy: 0.7622 - val_loss: 0.5016\n",
      "Epoch 5/20\n",
      "\u001b[1m1020/1020\u001b[0m \u001b[32m━━━━━━━━━━━━━━━━━━━━\u001b[0m\u001b[37m\u001b[0m \u001b[1m1s\u001b[0m 1ms/step - accuracy: 0.7665 - loss: 0.4936 - val_accuracy: 0.7652 - val_loss: 0.4963\n",
      "Epoch 6/20\n",
      "\u001b[1m1020/1020\u001b[0m \u001b[32m━━━━━━━━━━━━━━━━━━━━\u001b[0m\u001b[37m\u001b[0m \u001b[1m1s\u001b[0m 1ms/step - accuracy: 0.7741 - loss: 0.4855 - val_accuracy: 0.7652 - val_loss: 0.4913\n",
      "Epoch 7/20\n",
      "\u001b[1m1020/1020\u001b[0m \u001b[32m━━━━━━━━━━━━━━━━━━━━\u001b[0m\u001b[37m\u001b[0m \u001b[1m1s\u001b[0m 1ms/step - accuracy: 0.7725 - loss: 0.4824 - val_accuracy: 0.7716 - val_loss: 0.4891\n",
      "Epoch 8/20\n",
      "\u001b[1m1020/1020\u001b[0m \u001b[32m━━━━━━━━━━━━━━━━━━━━\u001b[0m\u001b[37m\u001b[0m \u001b[1m1s\u001b[0m 1ms/step - accuracy: 0.7716 - loss: 0.4828 - val_accuracy: 0.7636 - val_loss: 0.4904\n",
      "Epoch 9/20\n",
      "\u001b[1m1020/1020\u001b[0m \u001b[32m━━━━━━━━━━━━━━━━━━━━\u001b[0m\u001b[37m\u001b[0m \u001b[1m1s\u001b[0m 1ms/step - accuracy: 0.7738 - loss: 0.4835 - val_accuracy: 0.7663 - val_loss: 0.4882\n",
      "Epoch 10/20\n",
      "\u001b[1m1020/1020\u001b[0m \u001b[32m━━━━━━━━━━━━━━━━━━━━\u001b[0m\u001b[37m\u001b[0m \u001b[1m1s\u001b[0m 1ms/step - accuracy: 0.7703 - loss: 0.4777 - val_accuracy: 0.7633 - val_loss: 0.4912\n",
      "Epoch 11/20\n",
      "\u001b[1m1020/1020\u001b[0m \u001b[32m━━━━━━━━━━━━━━━━━━━━\u001b[0m\u001b[37m\u001b[0m \u001b[1m1s\u001b[0m 1ms/step - accuracy: 0.7704 - loss: 0.4825 - val_accuracy: 0.7732 - val_loss: 0.4838\n",
      "Epoch 12/20\n",
      "\u001b[1m1020/1020\u001b[0m \u001b[32m━━━━━━━━━━━━━━━━━━━━\u001b[0m\u001b[37m\u001b[0m \u001b[1m1s\u001b[0m 1ms/step - accuracy: 0.7688 - loss: 0.4799 - val_accuracy: 0.7680 - val_loss: 0.4821\n",
      "Epoch 13/20\n",
      "\u001b[1m1020/1020\u001b[0m \u001b[32m━━━━━━━━━━━━━━━━━━━━\u001b[0m\u001b[37m\u001b[0m \u001b[1m1s\u001b[0m 1ms/step - accuracy: 0.7744 - loss: 0.4750 - val_accuracy: 0.7641 - val_loss: 0.4871\n",
      "Epoch 14/20\n",
      "\u001b[1m1020/1020\u001b[0m \u001b[32m━━━━━━━━━━━━━━━━━━━━\u001b[0m\u001b[37m\u001b[0m \u001b[1m1s\u001b[0m 1ms/step - accuracy: 0.7789 - loss: 0.4718 - val_accuracy: 0.7719 - val_loss: 0.4808\n",
      "Epoch 15/20\n",
      "\u001b[1m1020/1020\u001b[0m \u001b[32m━━━━━━━━━━━━━━━━━━━━\u001b[0m\u001b[37m\u001b[0m \u001b[1m1s\u001b[0m 1ms/step - accuracy: 0.7778 - loss: 0.4682 - val_accuracy: 0.7713 - val_loss: 0.4765\n",
      "Epoch 16/20\n",
      "\u001b[1m1020/1020\u001b[0m \u001b[32m━━━━━━━━━━━━━━━━━━━━\u001b[0m\u001b[37m\u001b[0m \u001b[1m1s\u001b[0m 1ms/step - accuracy: 0.7736 - loss: 0.4763 - val_accuracy: 0.7650 - val_loss: 0.4864\n",
      "Epoch 17/20\n",
      "\u001b[1m1020/1020\u001b[0m \u001b[32m━━━━━━━━━━━━━━━━━━━━\u001b[0m\u001b[37m\u001b[0m \u001b[1m1s\u001b[0m 1ms/step - accuracy: 0.7771 - loss: 0.4698 - val_accuracy: 0.7688 - val_loss: 0.4759\n",
      "Epoch 18/20\n",
      "\u001b[1m1020/1020\u001b[0m \u001b[32m━━━━━━━━━━━━━━━━━━━━\u001b[0m\u001b[37m\u001b[0m \u001b[1m1s\u001b[0m 1ms/step - accuracy: 0.7725 - loss: 0.4746 - val_accuracy: 0.7721 - val_loss: 0.4812\n",
      "Epoch 19/20\n",
      "\u001b[1m1020/1020\u001b[0m \u001b[32m━━━━━━━━━━━━━━━━━━━━\u001b[0m\u001b[37m\u001b[0m \u001b[1m1s\u001b[0m 1ms/step - accuracy: 0.7789 - loss: 0.4656 - val_accuracy: 0.7721 - val_loss: 0.4751\n",
      "Epoch 20/20\n",
      "\u001b[1m1020/1020\u001b[0m \u001b[32m━━━━━━━━━━━━━━━━━━━━\u001b[0m\u001b[37m\u001b[0m \u001b[1m1s\u001b[0m 1ms/step - accuracy: 0.7781 - loss: 0.4680 - val_accuracy: 0.7650 - val_loss: 0.4774\n",
      "\u001b[1m284/284\u001b[0m \u001b[32m━━━━━━━━━━━━━━━━━━━━\u001b[0m\u001b[37m\u001b[0m \u001b[1m0s\u001b[0m 1ms/step  \n",
      "Test Loss: 0.46896010637283325\n",
      "Accuracy: 0.7734745740890503\n",
      "Precision: 0.7431168136861802\n",
      "Recall: 0.7179752066115702\n",
      "F1-Score: 0.730329699198739\n",
      "Cross-Entropy Loss: 0.4689599970940157\n"
     ]
    },
    {
     "name": "stderr",
     "output_type": "stream",
     "text": [
      "C:\\Users\\binif\\AppData\\Local\\Temp\\ipykernel_14332\\3353510050.py:71: FutureWarning: \n",
      "\n",
      "Passing `palette` without assigning `hue` is deprecated and will be removed in v0.14.0. Assign the `y` variable to `hue` and set `legend=False` for the same effect.\n",
      "\n",
      "  ax = sns.barplot(x='Score', y='Metric', data=metrics_df, palette='viridis')\n"
     ]
    },
    {
     "data": {
      "image/png": "[encoded data removed]",
      "text/plain": [
       "<Figure size 1000x600 with 1 Axes>"
      ]
     },
     "metadata": {},
     "output_type": "display_data"
    }
   ],
   "source": [
    "import pandas as pd\n",
    "from sklearn.preprocessing import LabelEncoder, MinMaxScaler\n",
    "from sklearn.model_selection import train_test_split\n",
    "from sklearn.metrics import accuracy_score, precision_score, recall_score, f1_score, log_loss\n",
    "from tensorflow.keras.models import Sequential\n",
    "from tensorflow.keras.layers import LSTM, Dense\n",
    "import matplotlib.pyplot as plt\n",
    "import seaborn as sns\n",
    "import numpy as np\n",
    "\n",
    "# Load the dataset\n",
    "data = pd.read_csv(\"electricity.csv\")\n",
    "\n",
    "# Preprocessing\n",
    "le = LabelEncoder()\n",
    "data['class'] = le.fit_transform(data['class'])  # Encode the target variable (UP -> 1, DOWN -> 0)\n",
    "\n",
    "# Encode the categorical 'day' column\n",
    "data['day'] = le.fit_transform(data['day'])\n",
    "\n",
    "# Feature scaling\n",
    "scaler = MinMaxScaler()\n",
    "numerical_cols = ['date', 'day', 'period', 'nswprice', 'nswdemand', 'vicprice', 'vicdemand', 'transfer']\n",
    "data[numerical_cols] = scaler.fit_transform(data[numerical_cols])  # Normalize numerical features to [0, 1]\n",
    "\n",
    "# Prepare data for LSTM\n",
    "X = data[numerical_cols].values\n",
    "y = data['class'].values\n",
    "X = X.reshape(X.shape[0], 1, X.shape[1])  # Reshape for LSTM input (samples, timesteps, features)\n",
    "\n",
    "# Split data into training and testing sets\n",
    "X_train, X_test, y_train, y_test = train_test_split(X, y, test_size=0.2, random_state=42)\n",
    "\n",
    "# Build the LSTM model\n",
    "model = Sequential()\n",
    "model.add(LSTM(50, activation='relu', input_shape=(X_train.shape[1], X_train.shape[2])))\n",
    "model.add(Dense(1, activation='sigmoid'))  # Use sigmoid activation for binary classification\n",
    "model.compile(optimizer='adam', loss='binary_crossentropy', metrics=['accuracy'])\n",
    "\n",
    "# Train the model\n",
    "model.fit(X_train, y_train, epochs=20, batch_size=32, validation_split=0.1, verbose=1)\n",
    "\n",
    "# Evaluate the model\n",
    "loss, accuracy = model.evaluate(X_test, y_test, verbose=0)\n",
    "y_pred = model.predict(X_test)\n",
    "y_pred_classes = (y_pred > 0.5).astype(int)  # Convert probabilities to binary classes\n",
    "\n",
    "# Calculate additional metrics\n",
    "precision = precision_score(y_test, y_pred_classes)\n",
    "recall = recall_score(y_test, y_pred_classes)\n",
    "f1 = f1_score(y_test, y_pred_classes)\n",
    "entropy = log_loss(y_test, y_pred)\n",
    "\n",
    "# Present metrics\n",
    "print(f\"Test Loss: {loss}\")\n",
    "print(f\"Accuracy: {accuracy}\")\n",
    "print(f\"Precision: {precision}\")\n",
    "print(f\"Recall: {recall}\")\n",
    "print(f\"F1-Score: {f1}\")\n",
    "print(f\"Cross-Entropy Loss: {entropy}\")\n",
    "\n",
    "# Create a DataFrame for the metrics\n",
    "metrics = {\n",
    "    'Metric': ['Accuracy', 'Precision', 'Recall', 'F1-Score', 'Cross-Entropy Loss'],\n",
    "    'Score': [accuracy, precision, recall, f1, entropy]\n",
    "}\n",
    "metrics_df = pd.DataFrame(metrics)\n",
    "\n",
    "# Plot the metrics\n",
    "plt.figure(figsize=(10, 6))\n",
    "ax = sns.barplot(x='Score', y='Metric', data=metrics_df, palette='viridis')\n",
    "\n",
    "# Add metric values on top of each bar\n",
    "for p in ax.patches:\n",
    "    ax.annotate(f'{p.get_width():.4f}',\n",
    "                (p.get_width() + 0.02, p.get_y() + p.get_height() / 2),\n",
    "                ha='center', va='center', fontsize=10, color='black')\n",
    "\n",
    "# Customize the plot\n",
    "plt.title('LSTM Model Performance Metrics', fontsize=16)\n",
    "plt.xlabel('Score', fontsize=12)\n",
    "plt.ylabel('Metric', fontsize=12)\n",
    "plt.show()\n"
   ]
  },
  {
   "cell_type": "code",
   "execution_count": 8,
   "metadata": {
    "execution": {
     "iopub.execute_input": "2024-12-19T11:42:07.711033Z",
     "iopub.status.busy": "2024-12-19T11:42:07.710562Z",
     "iopub.status.idle": "2024-12-19T11:42:07.991916Z",
     "shell.execute_reply": "2024-12-19T11:42:07.990038Z",
     "shell.execute_reply.started": "2024-12-19T11:42:07.710988Z"
    },
    "trusted": true
   },
   "outputs": [
    {
     "ename": "ModuleNotFoundError",
     "evalue": "No module named 'shap'",
     "output_type": "error",
     "traceback": [
      "\u001b[1;31m---------------------------------------------------------------------------\u001b[0m",
      "\u001b[1;31mModuleNotFoundError\u001b[0m                       Traceback (most recent call last)",
      "Cell \u001b[1;32mIn[8], line 1\u001b[0m\n\u001b[1;32m----> 1\u001b[0m \u001b[38;5;28;01mimport\u001b[39;00m \u001b[38;5;21;01mshap\u001b[39;00m\n\u001b[0;32m      3\u001b[0m \u001b[38;5;66;03m# Define a wrapper function for the model's prediction\u001b[39;00m\n\u001b[0;32m      4\u001b[0m \u001b[38;5;28;01mdef\u001b[39;00m \u001b[38;5;21mpredict_fn\u001b[39m(X):\n",
      "\u001b[1;31mModuleNotFoundError\u001b[0m: No module named 'shap'"
     ]
    }
   ],
   "source": [
    "import shap\n",
    "\n",
    "# Define a wrapper function for the model's prediction\n",
    "def predict_fn(X):\n",
    "    return model.predict(X)\n",
    "\n",
    "# Reshape X_train to match the expected input format (2D)\n",
    "X_train_flat = X_train.reshape(X_train.shape[0], X_train.shape[2])\n",
    "\n",
    "# Initialize SHAP KernelExplainer\n",
    "explainer = shap.KernelExplainer(predict_fn, X_train_flat)\n",
    "\n",
    "# Calculate SHAP values for the test set\n",
    "X_test_flat = X_test.reshape(X_test.shape[0], X_test.shape[2])\n",
    "shap_values = explainer.shap_values(X_test_flat)\n",
    "\n",
    "# Define feature names\n",
    "feature_names = ['date', 'day', 'period', 'nswprice', 'nswdemand', 'vicprice', 'vicdemand', 'transfer']\n",
    "\n",
    "# Visualize SHAP values (summary plot)\n",
    "shap.summary_plot(shap_values[0], X_test_flat, feature_names=feature_names)\n",
    "\n",
    "# Visualize SHAP values (bar plot for feature importance)\n",
    "shap.summary_plot(shap_values[0], X_test_flat, feature_names=feature_names, plot_type='bar')\n"
   ]
  },
  {
   "cell_type": "code",
   "execution_count": null,
   "metadata": {
    "trusted": true
   },
   "outputs": [],
   "source": []
  }
 ],
 "metadata": {
  "colab": {
   "name": "Guessing electric prices \"up\" or \"down\"",
   "provenance": []
  },
  "kaggle": {
   "accelerator": "none",
   "dataSources": [
    {
     "datasetId": 2885143,
     "sourceId": 4975351,
     "sourceType": "datasetVersion"
    }
   ],
   "dockerImageVersionId": 30804,
   "isGpuEnabled": false,
   "isInternetEnabled": true,
   "language": "python",
   "sourceType": "notebook"
  },
  "kernelspec": {
   "display_name": "base",
   "language": "python",
   "name": "python3"
  },
  "language_info": {
   "codemirror_mode": {
    "name": "ipython",
    "version": 3
   },
   "file_extension": ".py",
   "mimetype": "text/x-python",
   "name": "python",
   "nbconvert_exporter": "python",
   "pygments_lexer": "ipython3",
   "version": "3.12.4"
  }
 },
 "nbformat": 4,
 "nbformat_minor": 4
}
